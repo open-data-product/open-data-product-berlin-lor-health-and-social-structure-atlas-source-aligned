{
 "cells": [
  {
   "cell_type": "markdown",
   "id": "4db46380",
   "metadata": {},
   "source": [
    "# Berlin LOR Health and Social Structure Atlas (source-aligned) - Sample Notebook"
   ]
  },
  {
   "cell_type": "markdown",
   "id": "b8c3cc5a",
   "metadata": {},
   "source": [
    "## Explore data"
   ]
  },
  {
   "cell_type": "code",
   "execution_count": 1,
   "id": "80e4d0ad",
   "metadata": {
    "execution": {
     "iopub.execute_input": "2025-10-28T22:28:48.526324Z",
     "iopub.status.busy": "2025-10-28T22:28:48.526248Z",
     "iopub.status.idle": "2025-10-28T22:28:48.531966Z",
     "shell.execute_reply": "2025-10-28T22:28:48.531551Z"
    }
   },
   "outputs": [],
   "source": [
    "\n",
    "import pandas as pd        \n",
    "\n",
    "# Read csv file\n",
    "dataframe = pd.read_csv(\"./data/03-gold/berlin-lor-health-and-social-structure-atlas-2022-00-csv/berlin-lor-health-and-social-structure-atlas-2022-00-planning-areas.csv\")\n",
    "            "
   ]
  },
  {
   "cell_type": "code",
   "execution_count": 2,
   "id": "1d4217d0",
   "metadata": {
    "execution": {
     "iopub.execute_input": "2025-10-28T22:28:48.533253Z",
     "iopub.status.busy": "2025-10-28T22:28:48.533184Z",
     "iopub.status.idle": "2025-10-28T22:28:48.542847Z",
     "shell.execute_reply": "2025-10-28T22:28:48.542377Z"
    }
   },
   "outputs": [
    {
     "data": {
      "text/html": [
       "<div>\n",
       "<style scoped>\n",
       "    .dataframe tbody tr th:only-of-type {\n",
       "        vertical-align: middle;\n",
       "    }\n",
       "\n",
       "    .dataframe tbody tr th {\n",
       "        vertical-align: top;\n",
       "    }\n",
       "\n",
       "    .dataframe thead th {\n",
       "        text-align: right;\n",
       "    }\n",
       "</style>\n",
       "<table border=\"1\" class=\"dataframe\">\n",
       "  <thead>\n",
       "    <tr style=\"text-align: right;\">\n",
       "      <th></th>\n",
       "      <th>id</th>\n",
       "      <th>health_and_social_index</th>\n",
       "      <th>employment_and_social_index</th>\n",
       "      <th>working_life_sub_index</th>\n",
       "      <th>social_status_sub_index</th>\n",
       "      <th>health_sub_index</th>\n",
       "    </tr>\n",
       "  </thead>\n",
       "  <tbody>\n",
       "    <tr>\n",
       "      <th>0</th>\n",
       "      <td>1011101</td>\n",
       "      <td>0.876456</td>\n",
       "      <td>0.372172</td>\n",
       "      <td>0.752776</td>\n",
       "      <td>-0.055861</td>\n",
       "      <td>1.637560</td>\n",
       "    </tr>\n",
       "    <tr>\n",
       "      <th>1</th>\n",
       "      <td>1011102</td>\n",
       "      <td>NaN</td>\n",
       "      <td>NaN</td>\n",
       "      <td>NaN</td>\n",
       "      <td>NaN</td>\n",
       "      <td>NaN</td>\n",
       "    </tr>\n",
       "    <tr>\n",
       "      <th>2</th>\n",
       "      <td>1011103</td>\n",
       "      <td>-1.558461</td>\n",
       "      <td>-0.967613</td>\n",
       "      <td>-0.440763</td>\n",
       "      <td>-1.371151</td>\n",
       "      <td>-2.405720</td>\n",
       "    </tr>\n",
       "    <tr>\n",
       "      <th>3</th>\n",
       "      <td>1011104</td>\n",
       "      <td>-0.787118</td>\n",
       "      <td>-1.264158</td>\n",
       "      <td>-0.674290</td>\n",
       "      <td>-1.692922</td>\n",
       "      <td>0.358169</td>\n",
       "    </tr>\n",
       "    <tr>\n",
       "      <th>4</th>\n",
       "      <td>1011105</td>\n",
       "      <td>1.578060</td>\n",
       "      <td>1.248452</td>\n",
       "      <td>1.141980</td>\n",
       "      <td>1.195823</td>\n",
       "      <td>1.833587</td>\n",
       "    </tr>\n",
       "  </tbody>\n",
       "</table>\n",
       "</div>"
      ],
      "text/plain": [
       "        id  health_and_social_index  ...  social_status_sub_index  health_sub_index\n",
       "0  1011101                 0.876456  ...                -0.055861          1.637560\n",
       "1  1011102                      NaN  ...                      NaN               NaN\n",
       "2  1011103                -1.558461  ...                -1.371151         -2.405720\n",
       "3  1011104                -0.787118  ...                -1.692922          0.358169\n",
       "4  1011105                 1.578060  ...                 1.195823          1.833587\n",
       "\n",
       "[5 rows x 6 columns]"
      ]
     },
     "execution_count": 2,
     "metadata": {},
     "output_type": "execute_result"
    }
   ],
   "source": [
    "\n",
    "# Display 5 first rows\n",
    "dataframe.head()\n",
    "            "
   ]
  },
  {
   "cell_type": "code",
   "execution_count": 3,
   "id": "bc9f3b85",
   "metadata": {
    "execution": {
     "iopub.execute_input": "2025-10-28T22:28:48.544085Z",
     "iopub.status.busy": "2025-10-28T22:28:48.544005Z",
     "iopub.status.idle": "2025-10-28T22:28:48.549949Z",
     "shell.execute_reply": "2025-10-28T22:28:48.549545Z"
    }
   },
   "outputs": [
    {
     "name": "stdout",
     "output_type": "stream",
     "text": [
      "<class 'pandas.core.frame.DataFrame'>\n",
      "RangeIndex: 448 entries, 0 to 447\n",
      "Data columns (total 6 columns):\n",
      " #   Column                       Non-Null Count  Dtype  \n",
      "---  ------                       --------------  -----  \n",
      " 0   id                           448 non-null    int64  \n",
      " 1   health_and_social_index      428 non-null    float64\n",
      " 2   employment_and_social_index  428 non-null    float64\n",
      " 3   working_life_sub_index       428 non-null    float64\n",
      " 4   social_status_sub_index      428 non-null    float64\n",
      " 5   health_sub_index             428 non-null    float64\n",
      "dtypes: float64(5), int64(1)\n",
      "memory usage: 21.1 KB\n"
     ]
    }
   ],
   "source": [
    "\n",
    "# Display dataframe info\n",
    "dataframe.info()\n",
    "            "
   ]
  },
  {
   "cell_type": "code",
   "execution_count": 4,
   "id": "5ca92499",
   "metadata": {
    "execution": {
     "iopub.execute_input": "2025-10-28T22:28:48.551198Z",
     "iopub.status.busy": "2025-10-28T22:28:48.551121Z",
     "iopub.status.idle": "2025-10-28T22:28:48.562064Z",
     "shell.execute_reply": "2025-10-28T22:28:48.561579Z"
    }
   },
   "outputs": [
    {
     "data": {
      "text/html": [
       "<div>\n",
       "<style scoped>\n",
       "    .dataframe tbody tr th:only-of-type {\n",
       "        vertical-align: middle;\n",
       "    }\n",
       "\n",
       "    .dataframe tbody tr th {\n",
       "        vertical-align: top;\n",
       "    }\n",
       "\n",
       "    .dataframe thead th {\n",
       "        text-align: right;\n",
       "    }\n",
       "</style>\n",
       "<table border=\"1\" class=\"dataframe\">\n",
       "  <thead>\n",
       "    <tr style=\"text-align: right;\">\n",
       "      <th></th>\n",
       "      <th>id</th>\n",
       "      <th>health_and_social_index</th>\n",
       "      <th>employment_and_social_index</th>\n",
       "      <th>working_life_sub_index</th>\n",
       "      <th>social_status_sub_index</th>\n",
       "      <th>health_sub_index</th>\n",
       "    </tr>\n",
       "  </thead>\n",
       "  <tbody>\n",
       "    <tr>\n",
       "      <th>count</th>\n",
       "      <td>4.480000e+02</td>\n",
       "      <td>4.280000e+02</td>\n",
       "      <td>4.280000e+02</td>\n",
       "      <td>4.280000e+02</td>\n",
       "      <td>4.280000e+02</td>\n",
       "      <td>4.280000e+02</td>\n",
       "    </tr>\n",
       "    <tr>\n",
       "      <th>mean</th>\n",
       "      <td>6.286195e+06</td>\n",
       "      <td>-7.000701e-10</td>\n",
       "      <td>-1.167991e-09</td>\n",
       "      <td>-3.060748e-11</td>\n",
       "      <td>-3.186215e-09</td>\n",
       "      <td>-4.080841e-10</td>\n",
       "    </tr>\n",
       "    <tr>\n",
       "      <th>std</th>\n",
       "      <td>3.352366e+06</td>\n",
       "      <td>1.000000e+00</td>\n",
       "      <td>1.000000e+00</td>\n",
       "      <td>1.000000e+00</td>\n",
       "      <td>1.000000e+00</td>\n",
       "      <td>1.000000e+00</td>\n",
       "    </tr>\n",
       "    <tr>\n",
       "      <th>min</th>\n",
       "      <td>1.011101e+06</td>\n",
       "      <td>-3.824397e+00</td>\n",
       "      <td>-3.485004e+00</td>\n",
       "      <td>-4.606397e+00</td>\n",
       "      <td>-4.937645e+00</td>\n",
       "      <td>-6.992471e+00</td>\n",
       "    </tr>\n",
       "    <tr>\n",
       "      <th>25%</th>\n",
       "      <td>4.020206e+06</td>\n",
       "      <td>-7.079193e-01</td>\n",
       "      <td>-6.560678e-01</td>\n",
       "      <td>-6.607878e-01</td>\n",
       "      <td>-5.244324e-01</td>\n",
       "      <td>-6.066389e-01</td>\n",
       "    </tr>\n",
       "    <tr>\n",
       "      <th>50%</th>\n",
       "      <td>6.025456e+06</td>\n",
       "      <td>1.477728e-01</td>\n",
       "      <td>2.212585e-01</td>\n",
       "      <td>2.266473e-01</td>\n",
       "      <td>1.737544e-01</td>\n",
       "      <td>1.922500e-01</td>\n",
       "    </tr>\n",
       "    <tr>\n",
       "      <th>75%</th>\n",
       "      <td>9.030902e+06</td>\n",
       "      <td>7.801268e-01</td>\n",
       "      <td>7.609800e-01</td>\n",
       "      <td>7.618995e-01</td>\n",
       "      <td>7.370310e-01</td>\n",
       "      <td>7.108660e-01</td>\n",
       "    </tr>\n",
       "    <tr>\n",
       "      <th>max</th>\n",
       "      <td>1.230431e+07</td>\n",
       "      <td>1.648244e+00</td>\n",
       "      <td>1.534342e+00</td>\n",
       "      <td>1.372110e+00</td>\n",
       "      <td>1.553541e+00</td>\n",
       "      <td>2.455417e+00</td>\n",
       "    </tr>\n",
       "  </tbody>\n",
       "</table>\n",
       "</div>"
      ],
      "text/plain": [
       "                 id  ...  health_sub_index\n",
       "count  4.480000e+02  ...      4.280000e+02\n",
       "mean   6.286195e+06  ...     -4.080841e-10\n",
       "std    3.352366e+06  ...      1.000000e+00\n",
       "min    1.011101e+06  ...     -6.992471e+00\n",
       "25%    4.020206e+06  ...     -6.066389e-01\n",
       "50%    6.025456e+06  ...      1.922500e-01\n",
       "75%    9.030902e+06  ...      7.108660e-01\n",
       "max    1.230431e+07  ...      2.455417e+00\n",
       "\n",
       "[8 rows x 6 columns]"
      ]
     },
     "execution_count": 4,
     "metadata": {},
     "output_type": "execute_result"
    }
   ],
   "source": [
    "\n",
    "# Describe dataframe\n",
    "dataframe.describe()\n",
    "            "
   ]
  }
 ],
 "metadata": {
  "language_info": {
   "codemirror_mode": {
    "name": "ipython",
    "version": 3
   },
   "file_extension": ".py",
   "mimetype": "text/x-python",
   "name": "python",
   "nbconvert_exporter": "python",
   "pygments_lexer": "ipython3",
   "version": "3.13.0"
  }
 },
 "nbformat": 4,
 "nbformat_minor": 5
}
